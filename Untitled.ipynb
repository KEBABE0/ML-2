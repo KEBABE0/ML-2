{
 "cells": [
  {
   "cell_type": "markdown",
   "id": "94867517-cb46-4037-9be2-14c422d74955",
   "metadata": {},
   "source": [
    "---\n",
    "# <div align=\"center\"><font color='green'> Cancer Diagnosis Using Machine Learning </font></div>\n",
    "## <div align=\"center\"> <font color='red'> Tuvi Tejavath (s4021703), Aashish Thoutam (s4009168) </font></div>\n",
    "---"
   ]
  },
  {
   "cell_type": "markdown",
   "id": "a1d45101-c015-44b5-a630-da389ea2dd40",
   "metadata": {},
   "source": [
    "<h1>Introduction</h1>"
   ]
  },
  {
   "cell_type": "code",
   "execution_count": 10,
   "id": "f621ca23-3159-4d19-96bd-3fb3b2faac0f",
   "metadata": {},
   "outputs": [],
   "source": [
    "import pandas as pd\n",
    "import numpy as np\n",
    "from PIL import Image\n",
    "import matplotlib.pyplot as plt\n",
    "import seaborn as sns\n",
    "from sklearn.model_selection import train_test_split\n",
    "from sklearn.decomposition import PCA"
   ]
  },
  {
   "cell_type": "code",
   "execution_count": null,
   "id": "52b1099f-ed77-4b32-bf1d-f9fa795d1dbb",
   "metadata": {},
   "outputs": [],
   "source": []
  }
 ],
 "metadata": {
  "kernelspec": {
   "display_name": "Python [conda env:base] *",
   "language": "python",
   "name": "conda-base-py"
  },
  "language_info": {
   "codemirror_mode": {
    "name": "ipython",
    "version": 3
   },
   "file_extension": ".py",
   "mimetype": "text/x-python",
   "name": "python",
   "nbconvert_exporter": "python",
   "pygments_lexer": "ipython3",
   "version": "3.12.7"
  }
 },
 "nbformat": 4,
 "nbformat_minor": 5
}
